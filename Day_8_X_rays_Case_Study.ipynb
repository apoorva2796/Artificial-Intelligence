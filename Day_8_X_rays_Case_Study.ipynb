{
 "cells": [
  {
   "cell_type": "code",
   "execution_count": 1,
   "metadata": {},
   "outputs": [
    {
     "name": "stderr",
     "output_type": "stream",
     "text": [
      "Using TensorFlow backend.\n"
     ]
    }
   ],
   "source": [
    "import split_folders\n",
    "\n",
    "from keras.preprocessing.image import ImageDataGenerator\n",
    "from keras.models import Sequential\n",
    "from keras.layers import Conv2D, MaxPooling2D\n",
    "from keras.layers import Activation, Dropout, Dense, Flatten"
   ]
  },
  {
   "cell_type": "code",
   "execution_count": 2,
   "metadata": {},
   "outputs": [],
   "source": [
    "#split_folders.ratio(r'C:\\Users\\Administrator\\Desktop\\Folders\\Term-3\\AI\\data\\Health Map Diagnostics_Ranchi_X-ray Images', \n",
    "#                    output=r'C:\\Users\\Administrator\\Desktop\\Folders\\Term-3\\AI\\data\\X_ray_split', \n",
    "#                    seed=1337, ratio=(.8, .2))"
   ]
  },
  {
   "cell_type": "code",
   "execution_count": 3,
   "metadata": {},
   "outputs": [],
   "source": [
    "#conv layers\n",
    "model = Sequential()\n",
    "#model.add(Conv2D(64, (3, 3), input_shape=(150,150,3)))\n",
    "model.add(Conv2D(64,(3,3),input_shape = (64,64,3), activation = 'relu'))\n",
    "model.add(MaxPooling2D(pool_size=(2, 2)))\n",
    "\n",
    "model.add(Conv2D(64,(3,3), activation = 'relu'))\n",
    "model.add(MaxPooling2D(pool_size=(2, 2)))\n",
    "\n",
    "model.add(Conv2D(64,(3,3), activation = 'relu'))\n",
    "model.add(MaxPooling2D(pool_size=(2, 2)))\n",
    "\n",
    "model.add(Conv2D(64,(3,3), activation = 'relu'))\n",
    "model.add(MaxPooling2D(pool_size=(2, 2)))\n",
    "\n",
    "## accuracy(train_acc: 98.42 and test_acc:85.71  for 15 epochs)\n"
   ]
  },
  {
   "cell_type": "code",
   "execution_count": 4,
   "metadata": {},
   "outputs": [],
   "source": [
    "#fully connected layers\n",
    "model.add(Flatten())  \n",
    " \n",
    "model.add(Dense( activation = 'relu', units=64))\n",
    "\n",
    "model.add(Dense( activation = 'relu', units=64))\n",
    "\n",
    "model.add(Dense( activation = 'relu', units=64))\n",
    "\n",
    "model.add(Dense( activation = 'relu', units=64))\n",
    "\n",
    "\n",
    "model.add(Dense( activation = 'sigmoid', units=1)) "
   ]
  },
  {
   "cell_type": "code",
   "execution_count": 5,
   "metadata": {},
   "outputs": [],
   "source": [
    "model.compile(loss='binary_crossentropy',\n",
    "              optimizer='adam',\n",
    "              metrics=['accuracy'])"
   ]
  },
  {
   "cell_type": "code",
   "execution_count": 6,
   "metadata": {},
   "outputs": [],
   "source": [
    "train_datagen = ImageDataGenerator(rescale=1./255)\n",
    "\n",
    "test_datagen = ImageDataGenerator(rescale=1./255)"
   ]
  },
  {
   "cell_type": "code",
   "execution_count": 7,
   "metadata": {},
   "outputs": [
    {
     "name": "stdout",
     "output_type": "stream",
     "text": [
      "Found 400 images belonging to 2 classes.\n",
      "Found 91 images belonging to 2 classes.\n"
     ]
    }
   ],
   "source": [
    "train_set = train_datagen.flow_from_directory(\n",
    "        r'C:/Users/Administrator/Desktop/Folders/Term-3/AI/data/X_ray_split/train',\n",
    "        target_size=(64,64),\n",
    "        class_mode='binary')\n",
    "\n",
    "test_set = train_datagen.flow_from_directory(\n",
    "        r'C:/Users/Administrator/Desktop/Folders/Term-3/AI/data/X_ray_split/test',\n",
    "        target_size=(64,64),\n",
    "        class_mode='binary')"
   ]
  },
  {
   "cell_type": "code",
   "execution_count": null,
   "metadata": {},
   "outputs": [],
   "source": []
  },
  {
   "cell_type": "code",
   "execution_count": 9,
   "metadata": {},
   "outputs": [
    {
     "name": "stdout",
     "output_type": "stream",
     "text": [
      "Epoch 1/15\n",
      "13/13 [==============================] - 136s 10s/step - loss: 0.6805 - acc: 0.5627 - val_loss: 0.6798 - val_acc: 0.5604\n",
      "Epoch 2/15\n",
      "13/13 [==============================] - 126s 10s/step - loss: 0.6694 - acc: 0.5768 - val_loss: 0.6684 - val_acc: 0.6154\n",
      "Epoch 3/15\n",
      "13/13 [==============================] - 131s 10s/step - loss: 0.6664 - acc: 0.5988 - val_loss: 0.6681 - val_acc: 0.5495\n",
      "Epoch 4/15\n",
      "13/13 [==============================] - 131s 10s/step - loss: 0.6487 - acc: 0.6154 - val_loss: 0.6890 - val_acc: 0.5714\n",
      "Epoch 5/15\n",
      "13/13 [==============================] - 135s 10s/step - loss: 0.6530 - acc: 0.5983 - val_loss: 0.6988 - val_acc: 0.5824\n",
      "Epoch 6/15\n",
      "13/13 [==============================] - 136s 10s/step - loss: 0.6483 - acc: 0.6226 - val_loss: 0.6836 - val_acc: 0.5495\n",
      "Epoch 7/15\n",
      "13/13 [==============================] - 129s 10s/step - loss: 0.6444 - acc: 0.5938 - val_loss: 0.6698 - val_acc: 0.5824\n",
      "Epoch 8/15\n",
      "13/13 [==============================] - 127s 10s/step - loss: 0.6433 - acc: 0.5937 - val_loss: 0.6538 - val_acc: 0.6044\n",
      "Epoch 9/15\n",
      "13/13 [==============================] - 120s 9s/step - loss: 0.6230 - acc: 0.6536 - val_loss: 0.6454 - val_acc: 0.6593\n",
      "Epoch 10/15\n",
      "13/13 [==============================] - 141s 11s/step - loss: 0.5923 - acc: 0.6732 - val_loss: 0.6686 - val_acc: 0.6264\n",
      "Epoch 11/15\n",
      "13/13 [==============================] - 131s 10s/step - loss: 0.5848 - acc: 0.6999 - val_loss: 0.7071 - val_acc: 0.5934\n",
      "Epoch 12/15\n",
      "13/13 [==============================] - 121s 9s/step - loss: 0.5639 - acc: 0.7090 - val_loss: 0.7247 - val_acc: 0.5495\n",
      "Epoch 13/15\n",
      "13/13 [==============================] - 120s 9s/step - loss: 0.5678 - acc: 0.6977 - val_loss: 0.7116 - val_acc: 0.5824\n",
      "Epoch 14/15\n",
      "13/13 [==============================] - 139s 11s/step - loss: 0.5474 - acc: 0.7238 - val_loss: 0.6839 - val_acc: 0.6154\n",
      "Epoch 15/15\n",
      "13/13 [==============================] - 166s 13s/step - loss: 0.4795 - acc: 0.7452 - val_loss: 0.8692 - val_acc: 0.5714\n",
      "Epoch 1/1\n",
      "13/13 [==============================] - 161s 12s/step - loss: 0.4677 - acc: 0.7741\n"
     ]
    },
    {
     "data": {
      "text/plain": [
       "<keras.callbacks.History at 0x232def4e7f0>"
      ]
     },
     "execution_count": 9,
     "metadata": {},
     "output_type": "execute_result"
    }
   ],
   "source": [
    "model.fit_generator(\n",
    "        train_set,\n",
    "        epochs=15,\n",
    "        validation_data=test_set)\n",
    "\n",
    "model.fit_generator(train_set)"
   ]
  },
  {
   "cell_type": "code",
   "execution_count": 10,
   "metadata": {},
   "outputs": [
    {
     "data": {
      "image/png": "[encoded data removed]",
      "text/plain": [
       "<PIL.Image.Image image mode=RGB size=64x64 at 0x2328048C4E0>"
      ]
     },
     "execution_count": 10,
     "metadata": {},
     "output_type": "execute_result"
    }
   ],
   "source": [
    "## prediction of single new data\n",
    "import numpy as np\n",
    "from keras.preprocessing import image\n",
    "test_image= image.load_img(r'C:/Users/Administrator/Desktop/Folders/Term-3/AI/data/X_ray_split/inference/abnormal70.jpg'\n",
    "                           ,target_size =(64,64))\n",
    "\n",
    "test_image"
   ]
  },
  {
   "cell_type": "code",
   "execution_count": 11,
   "metadata": {},
   "outputs": [],
   "source": [
    "## Convert image to array\n",
    "test_image = image.img_to_array(test_image)\n",
    "\n",
    "test_image=test_image.reshape(1,64, 64, 3)"
   ]
  },
  {
   "cell_type": "code",
   "execution_count": 12,
   "metadata": {},
   "outputs": [
    {
     "data": {
      "text/plain": [
       "array([[1.]], dtype=float32)"
      ]
     },
     "execution_count": 12,
     "metadata": {},
     "output_type": "execute_result"
    }
   ],
   "source": [
    "## For single prediction change the dimension using axis. To remove problem of batch\n",
    "#test_image = np.expand_dims(test_image,axis = 0)\n",
    "result = model.predict(test_image)\n",
    "\n",
    "result"
   ]
  },
  {
   "cell_type": "code",
   "execution_count": 13,
   "metadata": {},
   "outputs": [
    {
     "name": "stdout",
     "output_type": "stream",
     "text": [
      "{'Abnormal Reports': 0, 'Normal Reports': 1}\n"
     ]
    }
   ],
   "source": [
    "label_map = (train_set.class_indices)\n",
    "print(label_map)"
   ]
  },
  {
   "cell_type": "code",
   "execution_count": 14,
   "metadata": {},
   "outputs": [],
   "source": [
    "## Class label \n",
    "\n",
    "if result == 0:\n",
    "    prediction = 'Abnormal Reports'\n",
    "else:\n",
    "    prediction = 'Normal Reports'"
   ]
  },
  {
   "cell_type": "code",
   "execution_count": 15,
   "metadata": {},
   "outputs": [
    {
     "data": {
      "text/plain": [
       "'Normal Reports'"
      ]
     },
     "execution_count": 15,
     "metadata": {},
     "output_type": "execute_result"
    }
   ],
   "source": [
    "prediction"
   ]
  },
  {
   "cell_type": "code",
   "execution_count": null,
   "metadata": {},
   "outputs": [],
   "source": []
  }
 ],
 "metadata": {
  "kernelspec": {
   "display_name": "Python 3",
   "language": "python",
   "name": "python3"
  },
  "language_info": {
   "codemirror_mode": {
    "name": "ipython",
    "version": 3
   },
   "file_extension": ".py",
   "mimetype": "text/x-python",
   "name": "python",
   "nbconvert_exporter": "python",
   "pygments_lexer": "ipython3",
   "version": "3.6.9"
  }
 },
 "nbformat": 4,
 "nbformat_minor": 2
}
