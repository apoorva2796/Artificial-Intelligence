{
 "cells": [
  {
   "cell_type": "code",
   "execution_count": 1,
   "metadata": {},
   "outputs": [
    {
     "data": {
      "text/html": [
       "<div>\n",
       "<style scoped>\n",
       "    .dataframe tbody tr th:only-of-type {\n",
       "        vertical-align: middle;\n",
       "    }\n",
       "\n",
       "    .dataframe tbody tr th {\n",
       "        vertical-align: top;\n",
       "    }\n",
       "\n",
       "    .dataframe thead th {\n",
       "        text-align: right;\n",
       "    }\n",
       "</style>\n",
       "<table border=\"1\" class=\"dataframe\">\n",
       "  <thead>\n",
       "    <tr style=\"text-align: right;\">\n",
       "      <th></th>\n",
       "      <th>Sepal.Length</th>\n",
       "      <th>Sepal.Width</th>\n",
       "      <th>Petal.Length</th>\n",
       "      <th>Petal.Width</th>\n",
       "      <th>Species</th>\n",
       "    </tr>\n",
       "  </thead>\n",
       "  <tbody>\n",
       "    <tr>\n",
       "      <td>0</td>\n",
       "      <td>5.1</td>\n",
       "      <td>3.5</td>\n",
       "      <td>1.4</td>\n",
       "      <td>0.2</td>\n",
       "      <td>setosa</td>\n",
       "    </tr>\n",
       "    <tr>\n",
       "      <td>1</td>\n",
       "      <td>4.9</td>\n",
       "      <td>3.0</td>\n",
       "      <td>1.4</td>\n",
       "      <td>0.2</td>\n",
       "      <td>setosa</td>\n",
       "    </tr>\n",
       "    <tr>\n",
       "      <td>2</td>\n",
       "      <td>4.7</td>\n",
       "      <td>3.2</td>\n",
       "      <td>1.3</td>\n",
       "      <td>0.2</td>\n",
       "      <td>setosa</td>\n",
       "    </tr>\n",
       "    <tr>\n",
       "      <td>3</td>\n",
       "      <td>4.6</td>\n",
       "      <td>3.1</td>\n",
       "      <td>1.5</td>\n",
       "      <td>0.2</td>\n",
       "      <td>setosa</td>\n",
       "    </tr>\n",
       "    <tr>\n",
       "      <td>4</td>\n",
       "      <td>5.0</td>\n",
       "      <td>3.6</td>\n",
       "      <td>1.4</td>\n",
       "      <td>0.2</td>\n",
       "      <td>setosa</td>\n",
       "    </tr>\n",
       "  </tbody>\n",
       "</table>\n",
       "</div>"
      ],
      "text/plain": [
       "   Sepal.Length  Sepal.Width  Petal.Length  Petal.Width Species\n",
       "0           5.1          3.5           1.4          0.2  setosa\n",
       "1           4.9          3.0           1.4          0.2  setosa\n",
       "2           4.7          3.2           1.3          0.2  setosa\n",
       "3           4.6          3.1           1.5          0.2  setosa\n",
       "4           5.0          3.6           1.4          0.2  setosa"
      ]
     },
     "execution_count": 1,
     "metadata": {},
     "output_type": "execute_result"
    }
   ],
   "source": [
    "import tensorflow as tf\n",
    "\n",
    "import os\n",
    "import numpy as np\n",
    "import pandas as pd \n",
    "from pandas import get_dummies\n",
    "import matplotlib.pyplot as plt\n",
    "%matplotlib inline\n",
    "\n",
    "from sklearn.metrics import confusion_matrix\n",
    "import warnings\n",
    "from sklearn.metrics import accuracy_score\n",
    "warnings.filterwarnings('ignore')\n",
    "\n",
    "from sklearn.datasets import load_iris\n",
    "\n",
    "path = r\"C:\\Users\\Administrator\\Desktop\\Folders\\Term-3\\AI\\Dataset\"\n",
    "os.chdir(path)\n",
    "data = pd.read_csv(\"Iris_dataset.csv\")\n",
    "data.head()"
   ]
  },
  {
   "cell_type": "code",
   "execution_count": 2,
   "metadata": {},
   "outputs": [],
   "source": [
    "X_input = data.drop(labels='Species', axis=1)\n",
    "\n",
    "Y_label = data[['Species']]"
   ]
  },
  {
   "cell_type": "code",
   "execution_count": 3,
   "metadata": {},
   "outputs": [],
   "source": [
    "#defining the perceptron\n",
    "\n",
    "#define placeholder for features and labels\n",
    "x = tf.placeholder(tf.float32,[None,4])\n",
    "\n",
    "y = tf.placeholder(tf.float32,[None,3])\n",
    "\n",
    "\n",
    "# first hidden layer\n",
    "W1 = tf.Variable(tf.truncated_normal([4,50],stddev=0.1))\n",
    "b1 = tf.Variable(tf.truncated_normal([50]))\n",
    "\n",
    "#output of first hidden layer\n",
    "y1 = tf.nn.relu(tf.matmul(x,W1) + b1)"
   ]
  },
  {
   "cell_type": "code",
   "execution_count": 4,
   "metadata": {},
   "outputs": [],
   "source": [
    "y_dummies = pd.get_dummies(Y_label)\n",
    "\n",
    "y_hot = y_dummies.values"
   ]
  },
  {
   "cell_type": "code",
   "execution_count": 5,
   "metadata": {},
   "outputs": [],
   "source": [
    "# second hidden layer\n",
    "W2 = tf.Variable(tf.truncated_normal([50,50],stddev=0.1))\n",
    "b2 = tf.Variable(tf.truncated_normal([50]))\n",
    "\n",
    "#output of second hidden layer\n",
    "y2 = tf.nn.relu(tf.matmul(y1,W2) + b2)"
   ]
  },
  {
   "cell_type": "code",
   "execution_count": 6,
   "metadata": {},
   "outputs": [],
   "source": [
    "# second hidden layer\n",
    "W3 = tf.Variable(tf.truncated_normal([50,50],stddev=0.1))\n",
    "b3 = tf.Variable(tf.truncated_normal([50]))\n",
    "\n",
    "#output of second hidden layer\n",
    "y3 = tf.nn.relu(tf.matmul(y1,W2) + b2)"
   ]
  },
  {
   "cell_type": "code",
   "execution_count": 7,
   "metadata": {},
   "outputs": [],
   "source": [
    "# third hidden layer\n",
    "# 3 because 3 possible class\n",
    "W4 = tf.Variable(tf.truncated_normal([50,3],stddev=0.1))\n",
    "\n",
    "b4 = tf.Variable(tf.truncated_normal([3]))\n",
    "\n",
    "#Net input function of last layer ...without activation function\n",
    "I = tf.matmul(y3,W4) + b4 \n",
    "\n",
    "#activation function - Softmax\n",
    "Output=tf.nn.softmax(I)"
   ]
  },
  {
   "cell_type": "code",
   "execution_count": 8,
   "metadata": {},
   "outputs": [],
   "source": [
    "# Cross Entropy\n",
    "\n",
    "cross_entropy = tf.reduce_mean(tf.nn.softmax_cross_entropy_with_logits_v2(labels=y_hot, logits=Output))"
   ]
  },
  {
   "cell_type": "code",
   "execution_count": 9,
   "metadata": {},
   "outputs": [],
   "source": [
    "optimizer = tf.train.GradientDescentOptimizer(learning_rate=0.3)"
   ]
  },
  {
   "cell_type": "code",
   "execution_count": 10,
   "metadata": {},
   "outputs": [],
   "source": [
    "train = optimizer.minimize(cross_entropy)"
   ]
  },
  {
   "cell_type": "code",
   "execution_count": 11,
   "metadata": {},
   "outputs": [],
   "source": [
    "#Create Session\n",
    "\n",
    "init = tf.global_variables_initializer()\n",
    "\n",
    "sess=tf.Session()\n",
    "sess.run(init)"
   ]
  },
  {
   "cell_type": "code",
   "execution_count": 12,
   "metadata": {},
   "outputs": [],
   "source": [
    "for i in range(15000):\n",
    "    final_train = sess.run(train, feed_dict={x:X_input, y:y_hot})"
   ]
  },
  {
   "cell_type": "code",
   "execution_count": 13,
   "metadata": {},
   "outputs": [
    {
     "data": {
      "text/plain": [
       "array([[9.99999404e-01, 5.97216228e-07, 0.00000000e+00],\n",
       "       [9.99992132e-01, 7.83898395e-06, 0.00000000e+00],\n",
       "       [9.99997377e-01, 2.59925537e-06, 0.00000000e+00],\n",
       "       [9.99989510e-01, 1.04975788e-05, 0.00000000e+00],\n",
       "       [9.99999523e-01, 4.41382213e-07, 0.00000000e+00],\n",
       "       [9.99999523e-01, 4.63645733e-07, 0.00000000e+00],\n",
       "       [9.99997377e-01, 2.64623759e-06, 0.00000000e+00],\n",
       "       [9.99998450e-01, 1.58885825e-06, 0.00000000e+00],\n",
       "       [9.99976993e-01, 2.30447185e-05, 0.00000000e+00],\n",
       "       [9.99994874e-01, 5.06699917e-06, 0.00000000e+00],\n",
       "       [9.99999762e-01, 2.44669280e-07, 0.00000000e+00],\n",
       "       [9.99996901e-01, 3.12729594e-06, 0.00000000e+00],\n",
       "       [9.99993801e-01, 6.17919659e-06, 0.00000000e+00],\n",
       "       [9.99996543e-01, 3.41983559e-06, 0.00000000e+00],\n",
       "       [1.00000000e+00, 1.13216734e-08, 0.00000000e+00],\n",
       "       [1.00000000e+00, 1.52346278e-08, 0.00000000e+00],\n",
       "       [9.99999881e-01, 9.32330195e-08, 0.00000000e+00],\n",
       "       [9.99999166e-01, 8.54650523e-07, 0.00000000e+00],\n",
       "       [9.99999642e-01, 3.32545540e-07, 0.00000000e+00],\n",
       "       [9.99999642e-01, 3.41099792e-07, 0.00000000e+00],\n",
       "       [9.99997854e-01, 2.10859071e-06, 0.00000000e+00],\n",
       "       [9.99999285e-01, 7.58120677e-07, 0.00000000e+00],\n",
       "       [9.99999881e-01, 1.54145098e-07, 0.00000000e+00],\n",
       "       [9.99985456e-01, 1.45807244e-05, 0.00000000e+00],\n",
       "       [9.99988914e-01, 1.10518367e-05, 0.00000000e+00],\n",
       "       [9.99984503e-01, 1.54397094e-05, 0.00000000e+00],\n",
       "       [9.99995112e-01, 4.88595333e-06, 0.00000000e+00],\n",
       "       [9.99999166e-01, 7.76934314e-07, 0.00000000e+00],\n",
       "       [9.99999166e-01, 8.22016034e-07, 0.00000000e+00],\n",
       "       [9.99991298e-01, 8.75188562e-06, 0.00000000e+00],\n",
       "       [9.99987841e-01, 1.21367584e-05, 0.00000000e+00],\n",
       "       [9.99998093e-01, 1.93549863e-06, 0.00000000e+00],\n",
       "       [1.00000000e+00, 3.87427441e-08, 0.00000000e+00],\n",
       "       [1.00000000e+00, 1.58195252e-08, 0.00000000e+00],\n",
       "       [9.99992728e-01, 7.22988398e-06, 0.00000000e+00],\n",
       "       [9.99998808e-01, 1.20786433e-06, 0.00000000e+00],\n",
       "       [9.99999762e-01, 2.42907902e-07, 0.00000000e+00],\n",
       "       [9.99999642e-01, 3.53955102e-07, 0.00000000e+00],\n",
       "       [9.99990344e-01, 9.62012746e-06, 0.00000000e+00],\n",
       "       [9.99998569e-01, 1.38449548e-06, 0.00000000e+00],\n",
       "       [9.99999285e-01, 6.56945303e-07, 0.00000000e+00],\n",
       "       [9.99617696e-01, 3.82309954e-04, 0.00000000e+00],\n",
       "       [9.99996066e-01, 3.93107302e-06, 0.00000000e+00],\n",
       "       [9.99993443e-01, 6.54512951e-06, 0.00000000e+00],\n",
       "       [9.99997497e-01, 2.48974470e-06, 0.00000000e+00],\n",
       "       [9.99987364e-01, 1.25777397e-05, 0.00000000e+00],\n",
       "       [9.99999642e-01, 3.55817889e-07, 0.00000000e+00],\n",
       "       [9.99995589e-01, 4.46227659e-06, 0.00000000e+00],\n",
       "       [9.99999762e-01, 2.80790942e-07, 0.00000000e+00],\n",
       "       [9.99998331e-01, 1.66903908e-06, 0.00000000e+00],\n",
       "       [1.98317125e-07, 9.99999762e-01, 8.18714324e-31],\n",
       "       [2.21086598e-08, 1.00000000e+00, 8.99420994e-26],\n",
       "       [1.02930580e-08, 1.00000000e+00, 6.02415445e-21],\n",
       "       [1.75190369e-08, 1.00000000e+00, 1.15935610e-16],\n",
       "       [1.07127685e-08, 1.00000000e+00, 1.34655905e-18],\n",
       "       [8.80714257e-09, 1.00000000e+00, 3.42657353e-13],\n",
       "       [6.79443923e-09, 1.00000000e+00, 1.15857677e-18],\n",
       "       [4.50092102e-06, 9.99995470e-01, 2.61082291e-32],\n",
       "       [2.73564282e-08, 1.00000000e+00, 2.49337516e-26],\n",
       "       [1.52255062e-08, 1.00000000e+00, 1.57809910e-18],\n",
       "       [7.15570820e-08, 9.99999881e-01, 4.63723008e-25],\n",
       "       [1.85238473e-08, 1.00000000e+00, 4.74974035e-23],\n",
       "       [1.98772696e-07, 9.99999762e-01, 7.08735900e-30],\n",
       "       [7.59870744e-09, 1.00000000e+00, 8.83913277e-13],\n",
       "       [1.09403863e-05, 9.99989033e-01, 1.46657901e-35],\n",
       "       [6.08548817e-07, 9.99999404e-01, 2.91412867e-32],\n",
       "       [5.90742477e-09, 1.00000000e+00, 1.57160743e-11],\n",
       "       [4.90391699e-07, 9.99999523e-01, 4.58961256e-30],\n",
       "       [9.82601467e-09, 1.00000000e+00, 3.86046395e-09],\n",
       "       [1.56374810e-07, 9.99999881e-01, 1.09443482e-27],\n",
       "       [1.40306105e-08, 9.90441680e-01, 9.55836102e-03],\n",
       "       [7.64318145e-07, 9.99999285e-01, 2.19452923e-31],\n",
       "       [1.94613392e-08, 9.87809896e-01, 1.21900663e-02],\n",
       "       [9.94375604e-09, 1.00000000e+00, 2.02751219e-16],\n",
       "       [2.54502680e-07, 9.99999762e-01, 4.35544882e-30],\n",
       "       [1.74534236e-07, 9.99999881e-01, 9.15620423e-30],\n",
       "       [1.16454908e-08, 1.00000000e+00, 1.01523770e-20],\n",
       "       [9.34024236e-09, 9.99999881e-01, 1.26203233e-07],\n",
       "       [8.62080007e-09, 1.00000000e+00, 2.27081215e-14],\n",
       "       [1.41862314e-04, 9.99858141e-01, 0.00000000e+00],\n",
       "       [1.48585244e-07, 9.99999881e-01, 1.79624533e-27],\n",
       "       [1.22700828e-06, 9.99998808e-01, 2.27428323e-31],\n",
       "       [6.45793364e-07, 9.99999404e-01, 1.64737502e-30],\n",
       "       [1.94678597e-14, 3.86486107e-07, 9.99999642e-01],\n",
       "       [7.69410224e-09, 1.00000000e+00, 9.75486802e-09],\n",
       "       [8.11551626e-09, 1.00000000e+00, 1.20765782e-22],\n",
       "       [1.43394514e-08, 1.00000000e+00, 4.70049681e-23],\n",
       "       [1.55231970e-08, 1.00000000e+00, 2.13128113e-19],\n",
       "       [5.54913377e-08, 1.00000000e+00, 1.27674071e-26],\n",
       "       [1.97472136e-08, 1.00000000e+00, 3.62183745e-19],\n",
       "       [1.08886118e-08, 1.00000000e+00, 8.79215797e-12],\n",
       "       [9.20777410e-09, 1.00000000e+00, 2.10194204e-17],\n",
       "       [1.09054092e-07, 9.99999881e-01, 2.32164307e-27],\n",
       "       [3.74238834e-06, 9.99996305e-01, 4.68390095e-32],\n",
       "       [1.48290731e-08, 1.00000000e+00, 3.53795281e-18],\n",
       "       [9.32714386e-08, 9.99999881e-01, 2.27000869e-27],\n",
       "       [2.09362518e-08, 1.00000000e+00, 3.03494985e-23],\n",
       "       [8.61276632e-08, 9.99999881e-01, 1.18051667e-27],\n",
       "       [3.20550898e-04, 9.99679446e-01, 0.00000000e+00],\n",
       "       [2.61723869e-08, 1.00000000e+00, 2.76019137e-24],\n",
       "       [7.41039463e-23, 1.05731409e-13, 1.00000000e+00],\n",
       "       [5.86977554e-17, 3.18201843e-09, 1.00000000e+00],\n",
       "       [7.46113025e-18, 6.88663959e-10, 1.00000000e+00],\n",
       "       [2.44886605e-17, 1.68542169e-09, 1.00000000e+00],\n",
       "       [5.46536196e-20, 1.51412979e-11, 1.00000000e+00],\n",
       "       [1.89414683e-20, 8.05832571e-12, 1.00000000e+00],\n",
       "       [1.44720301e-15, 4.22595718e-08, 1.00000000e+00],\n",
       "       [5.34495740e-18, 6.68007094e-10, 1.00000000e+00],\n",
       "       [9.08528284e-18, 1.06259490e-09, 1.00000000e+00],\n",
       "       [1.30694757e-19, 3.15002226e-11, 1.00000000e+00],\n",
       "       [5.56734075e-13, 1.39285121e-05, 9.99986053e-01],\n",
       "       [5.22272045e-16, 1.93762411e-08, 1.00000000e+00],\n",
       "       [2.10233604e-16, 8.37281089e-09, 1.00000000e+00],\n",
       "       [1.03868871e-17, 8.37261538e-10, 1.00000000e+00],\n",
       "       [1.27270436e-19, 2.73009254e-11, 1.00000000e+00],\n",
       "       [3.93636328e-17, 2.42010567e-09, 1.00000000e+00],\n",
       "       [9.92433670e-16, 3.13394253e-08, 1.00000000e+00],\n",
       "       [1.67295108e-19, 3.97667316e-11, 1.00000000e+00],\n",
       "       [7.85016549e-24, 2.63149640e-14, 1.00000000e+00],\n",
       "       [1.74269141e-13, 5.47266791e-06, 9.99994516e-01],\n",
       "       [4.97657747e-18, 4.67281658e-10, 1.00000000e+00],\n",
       "       [1.06251006e-16, 5.01473307e-09, 1.00000000e+00],\n",
       "       [2.58282639e-20, 1.33496911e-11, 1.00000000e+00],\n",
       "       [6.84910071e-12, 1.73921188e-04, 9.99826133e-01],\n",
       "       [2.74427425e-17, 1.85200588e-09, 1.00000000e+00],\n",
       "       [5.72700628e-16, 2.07592237e-08, 1.00000000e+00],\n",
       "       [3.54361956e-11, 7.66040932e-04, 9.99233961e-01],\n",
       "       [6.49342255e-12, 1.54837166e-04, 9.99845147e-01],\n",
       "       [6.09470656e-19, 9.67303945e-11, 1.00000000e+00],\n",
       "       [3.37209254e-12, 1.49062020e-04, 9.99850869e-01],\n",
       "       [7.42178937e-17, 6.78868783e-09, 1.00000000e+00],\n",
       "       [1.13474463e-15, 4.48085871e-08, 1.00000000e+00],\n",
       "       [1.60883062e-19, 3.44879819e-11, 1.00000000e+00],\n",
       "       [3.91682242e-10, 1.07865511e-02, 9.89213407e-01],\n",
       "       [1.99365854e-16, 8.95556607e-09, 1.00000000e+00],\n",
       "       [1.03379494e-17, 1.23324539e-09, 1.00000000e+00],\n",
       "       [2.96018757e-19, 6.93923252e-11, 1.00000000e+00],\n",
       "       [7.27036225e-16, 2.40624338e-08, 1.00000000e+00],\n",
       "       [3.08553016e-10, 9.36990604e-03, 9.90630090e-01],\n",
       "       [4.25262463e-15, 1.08139197e-07, 9.99999881e-01],\n",
       "       [6.50845455e-19, 9.70950959e-11, 1.00000000e+00],\n",
       "       [4.01887589e-14, 9.21617357e-07, 9.99999046e-01],\n",
       "       [5.86977554e-17, 3.18201843e-09, 1.00000000e+00],\n",
       "       [1.12754501e-19, 2.60130407e-11, 1.00000000e+00],\n",
       "       [1.20825871e-19, 2.69709220e-11, 1.00000000e+00],\n",
       "       [5.52770949e-16, 1.76191666e-08, 1.00000000e+00],\n",
       "       [1.62471202e-14, 5.00584406e-07, 9.99999523e-01],\n",
       "       [6.23361192e-15, 1.39608744e-07, 9.99999881e-01],\n",
       "       [1.17493388e-17, 1.23959154e-09, 1.00000000e+00],\n",
       "       [3.97231347e-15, 1.11430907e-07, 9.99999881e-01]], dtype=float32)"
      ]
     },
     "execution_count": 13,
     "metadata": {},
     "output_type": "execute_result"
    }
   ],
   "source": [
    "predict = sess.run(Output, feed_dict={x:X_input})\n",
    "\n",
    "predict"
   ]
  },
  {
   "cell_type": "code",
   "execution_count": 14,
   "metadata": {},
   "outputs": [
    {
     "name": "stdout",
     "output_type": "stream",
     "text": [
      "WARNING:tensorflow:From <ipython-input-14-e48fd4f25faf>:1: arg_max (from tensorflow.python.ops.gen_math_ops) is deprecated and will be removed in a future version.\n",
      "Instructions for updating:\n",
      "Use `argmax` instead\n"
     ]
    },
    {
     "data": {
      "text/plain": [
       "array([0, 0, 0, 0, 0, 0, 0, 0, 0, 0, 0, 0, 0, 0, 0, 0, 0, 0, 0, 0, 0, 0,\n",
       "       0, 0, 0, 0, 0, 0, 0, 0, 0, 0, 0, 0, 0, 0, 0, 0, 0, 0, 0, 0, 0, 0,\n",
       "       0, 0, 0, 0, 0, 0, 1, 1, 1, 1, 1, 1, 1, 1, 1, 1, 1, 1, 1, 1, 1, 1,\n",
       "       1, 1, 1, 1, 1, 1, 1, 1, 1, 1, 1, 1, 1, 1, 1, 1, 1, 2, 1, 1, 1, 1,\n",
       "       1, 1, 1, 1, 1, 1, 1, 1, 1, 1, 1, 1, 2, 2, 2, 2, 2, 2, 2, 2, 2, 2,\n",
       "       2, 2, 2, 2, 2, 2, 2, 2, 2, 2, 2, 2, 2, 2, 2, 2, 2, 2, 2, 2, 2, 2,\n",
       "       2, 2, 2, 2, 2, 2, 2, 2, 2, 2, 2, 2, 2, 2, 2, 2, 2, 2], dtype=int64)"
      ]
     },
     "execution_count": 14,
     "metadata": {},
     "output_type": "execute_result"
    }
   ],
   "source": [
    "result = sess.run(tf.arg_max(predict,1))\n",
    "\n",
    "result"
   ]
  },
  {
   "cell_type": "code",
   "execution_count": 15,
   "metadata": {},
   "outputs": [
    {
     "data": {
      "text/plain": [
       "array([0, 0, 0, 0, 0, 0, 0, 0, 0, 0, 0, 0, 0, 0, 0, 0, 0, 0, 0, 0, 0, 0,\n",
       "       0, 0, 0, 0, 0, 0, 0, 0, 0, 0, 0, 0, 0, 0, 0, 0, 0, 0, 0, 0, 0, 0,\n",
       "       0, 0, 0, 0, 0, 0, 1, 1, 1, 1, 1, 1, 1, 1, 1, 1, 1, 1, 1, 1, 1, 1,\n",
       "       1, 1, 1, 1, 1, 1, 1, 1, 1, 1, 1, 1, 1, 1, 1, 1, 1, 1, 1, 1, 1, 1,\n",
       "       1, 1, 1, 1, 1, 1, 1, 1, 1, 1, 1, 1, 2, 2, 2, 2, 2, 2, 2, 2, 2, 2,\n",
       "       2, 2, 2, 2, 2, 2, 2, 2, 2, 2, 2, 2, 2, 2, 2, 2, 2, 2, 2, 2, 2, 2,\n",
       "       2, 2, 2, 2, 2, 2, 2, 2, 2, 2, 2, 2, 2, 2, 2, 2, 2, 2], dtype=int64)"
      ]
     },
     "execution_count": 15,
     "metadata": {},
     "output_type": "execute_result"
    }
   ],
   "source": [
    "labhot = sess.run(tf.arg_max(y_hot,1))\n",
    "\n",
    "labhot"
   ]
  },
  {
   "cell_type": "code",
   "execution_count": 16,
   "metadata": {},
   "outputs": [
    {
     "data": {
      "text/plain": [
       "0.9933333333333333"
      ]
     },
     "execution_count": 16,
     "metadata": {},
     "output_type": "execute_result"
    }
   ],
   "source": [
    "accuracy_score(result,labhot)"
   ]
  },
  {
   "cell_type": "markdown",
   "metadata": {},
   "source": [
    "# ================Keras Implementation========================="
   ]
  },
  {
   "cell_type": "code",
   "execution_count": 17,
   "metadata": {},
   "outputs": [
    {
     "data": {
      "text/plain": [
       "array([[1, 0, 0],\n",
       "       [1, 0, 0],\n",
       "       [1, 0, 0],\n",
       "       [1, 0, 0],\n",
       "       [1, 0, 0],\n",
       "       [1, 0, 0],\n",
       "       [1, 0, 0],\n",
       "       [1, 0, 0],\n",
       "       [1, 0, 0],\n",
       "       [1, 0, 0],\n",
       "       [1, 0, 0],\n",
       "       [1, 0, 0],\n",
       "       [1, 0, 0],\n",
       "       [1, 0, 0],\n",
       "       [1, 0, 0],\n",
       "       [1, 0, 0],\n",
       "       [1, 0, 0],\n",
       "       [1, 0, 0],\n",
       "       [1, 0, 0],\n",
       "       [1, 0, 0],\n",
       "       [1, 0, 0],\n",
       "       [1, 0, 0],\n",
       "       [1, 0, 0],\n",
       "       [1, 0, 0],\n",
       "       [1, 0, 0],\n",
       "       [1, 0, 0],\n",
       "       [1, 0, 0],\n",
       "       [1, 0, 0],\n",
       "       [1, 0, 0],\n",
       "       [1, 0, 0],\n",
       "       [1, 0, 0],\n",
       "       [1, 0, 0],\n",
       "       [1, 0, 0],\n",
       "       [1, 0, 0],\n",
       "       [1, 0, 0],\n",
       "       [1, 0, 0],\n",
       "       [1, 0, 0],\n",
       "       [1, 0, 0],\n",
       "       [1, 0, 0],\n",
       "       [1, 0, 0],\n",
       "       [1, 0, 0],\n",
       "       [1, 0, 0],\n",
       "       [1, 0, 0],\n",
       "       [1, 0, 0],\n",
       "       [1, 0, 0],\n",
       "       [1, 0, 0],\n",
       "       [1, 0, 0],\n",
       "       [1, 0, 0],\n",
       "       [1, 0, 0],\n",
       "       [1, 0, 0],\n",
       "       [0, 1, 0],\n",
       "       [0, 1, 0],\n",
       "       [0, 1, 0],\n",
       "       [0, 1, 0],\n",
       "       [0, 1, 0],\n",
       "       [0, 1, 0],\n",
       "       [0, 1, 0],\n",
       "       [0, 1, 0],\n",
       "       [0, 1, 0],\n",
       "       [0, 1, 0],\n",
       "       [0, 1, 0],\n",
       "       [0, 1, 0],\n",
       "       [0, 1, 0],\n",
       "       [0, 1, 0],\n",
       "       [0, 1, 0],\n",
       "       [0, 1, 0],\n",
       "       [0, 1, 0],\n",
       "       [0, 1, 0],\n",
       "       [0, 1, 0],\n",
       "       [0, 1, 0],\n",
       "       [0, 1, 0],\n",
       "       [0, 1, 0],\n",
       "       [0, 1, 0],\n",
       "       [0, 1, 0],\n",
       "       [0, 1, 0],\n",
       "       [0, 1, 0],\n",
       "       [0, 1, 0],\n",
       "       [0, 1, 0],\n",
       "       [0, 1, 0],\n",
       "       [0, 1, 0],\n",
       "       [0, 1, 0],\n",
       "       [0, 1, 0],\n",
       "       [0, 1, 0],\n",
       "       [0, 1, 0],\n",
       "       [0, 1, 0],\n",
       "       [0, 1, 0],\n",
       "       [0, 1, 0],\n",
       "       [0, 1, 0],\n",
       "       [0, 1, 0],\n",
       "       [0, 1, 0],\n",
       "       [0, 1, 0],\n",
       "       [0, 1, 0],\n",
       "       [0, 1, 0],\n",
       "       [0, 1, 0],\n",
       "       [0, 1, 0],\n",
       "       [0, 1, 0],\n",
       "       [0, 1, 0],\n",
       "       [0, 1, 0],\n",
       "       [0, 1, 0],\n",
       "       [0, 1, 0],\n",
       "       [0, 0, 1],\n",
       "       [0, 0, 1],\n",
       "       [0, 0, 1],\n",
       "       [0, 0, 1],\n",
       "       [0, 0, 1],\n",
       "       [0, 0, 1],\n",
       "       [0, 0, 1],\n",
       "       [0, 0, 1],\n",
       "       [0, 0, 1],\n",
       "       [0, 0, 1],\n",
       "       [0, 0, 1],\n",
       "       [0, 0, 1],\n",
       "       [0, 0, 1],\n",
       "       [0, 0, 1],\n",
       "       [0, 0, 1],\n",
       "       [0, 0, 1],\n",
       "       [0, 0, 1],\n",
       "       [0, 0, 1],\n",
       "       [0, 0, 1],\n",
       "       [0, 0, 1],\n",
       "       [0, 0, 1],\n",
       "       [0, 0, 1],\n",
       "       [0, 0, 1],\n",
       "       [0, 0, 1],\n",
       "       [0, 0, 1],\n",
       "       [0, 0, 1],\n",
       "       [0, 0, 1],\n",
       "       [0, 0, 1],\n",
       "       [0, 0, 1],\n",
       "       [0, 0, 1],\n",
       "       [0, 0, 1],\n",
       "       [0, 0, 1],\n",
       "       [0, 0, 1],\n",
       "       [0, 0, 1],\n",
       "       [0, 0, 1],\n",
       "       [0, 0, 1],\n",
       "       [0, 0, 1],\n",
       "       [0, 0, 1],\n",
       "       [0, 0, 1],\n",
       "       [0, 0, 1],\n",
       "       [0, 0, 1],\n",
       "       [0, 0, 1],\n",
       "       [0, 0, 1],\n",
       "       [0, 0, 1],\n",
       "       [0, 0, 1],\n",
       "       [0, 0, 1],\n",
       "       [0, 0, 1],\n",
       "       [0, 0, 1],\n",
       "       [0, 0, 1],\n",
       "       [0, 0, 1]], dtype=uint8)"
      ]
     },
     "execution_count": 17,
     "metadata": {},
     "output_type": "execute_result"
    }
   ],
   "source": [
    "y_hot"
   ]
  },
  {
   "cell_type": "code",
   "execution_count": 18,
   "metadata": {},
   "outputs": [
    {
     "data": {
      "text/html": [
       "<div>\n",
       "<style scoped>\n",
       "    .dataframe tbody tr th:only-of-type {\n",
       "        vertical-align: middle;\n",
       "    }\n",
       "\n",
       "    .dataframe tbody tr th {\n",
       "        vertical-align: top;\n",
       "    }\n",
       "\n",
       "    .dataframe thead th {\n",
       "        text-align: right;\n",
       "    }\n",
       "</style>\n",
       "<table border=\"1\" class=\"dataframe\">\n",
       "  <thead>\n",
       "    <tr style=\"text-align: right;\">\n",
       "      <th></th>\n",
       "      <th>Species</th>\n",
       "    </tr>\n",
       "  </thead>\n",
       "  <tbody>\n",
       "    <tr>\n",
       "      <td>0</td>\n",
       "      <td>setosa</td>\n",
       "    </tr>\n",
       "    <tr>\n",
       "      <td>1</td>\n",
       "      <td>setosa</td>\n",
       "    </tr>\n",
       "    <tr>\n",
       "      <td>2</td>\n",
       "      <td>setosa</td>\n",
       "    </tr>\n",
       "    <tr>\n",
       "      <td>3</td>\n",
       "      <td>setosa</td>\n",
       "    </tr>\n",
       "    <tr>\n",
       "      <td>4</td>\n",
       "      <td>setosa</td>\n",
       "    </tr>\n",
       "    <tr>\n",
       "      <td>...</td>\n",
       "      <td>...</td>\n",
       "    </tr>\n",
       "    <tr>\n",
       "      <td>145</td>\n",
       "      <td>virginica</td>\n",
       "    </tr>\n",
       "    <tr>\n",
       "      <td>146</td>\n",
       "      <td>virginica</td>\n",
       "    </tr>\n",
       "    <tr>\n",
       "      <td>147</td>\n",
       "      <td>virginica</td>\n",
       "    </tr>\n",
       "    <tr>\n",
       "      <td>148</td>\n",
       "      <td>virginica</td>\n",
       "    </tr>\n",
       "    <tr>\n",
       "      <td>149</td>\n",
       "      <td>virginica</td>\n",
       "    </tr>\n",
       "  </tbody>\n",
       "</table>\n",
       "<p>150 rows × 1 columns</p>\n",
       "</div>"
      ],
      "text/plain": [
       "       Species\n",
       "0       setosa\n",
       "1       setosa\n",
       "2       setosa\n",
       "3       setosa\n",
       "4       setosa\n",
       "..         ...\n",
       "145  virginica\n",
       "146  virginica\n",
       "147  virginica\n",
       "148  virginica\n",
       "149  virginica\n",
       "\n",
       "[150 rows x 1 columns]"
      ]
     },
     "execution_count": 18,
     "metadata": {},
     "output_type": "execute_result"
    }
   ],
   "source": [
    "Y_label "
   ]
  },
  {
   "cell_type": "code",
   "execution_count": 19,
   "metadata": {},
   "outputs": [],
   "source": [
    "mymodel = tf.keras.models.Sequential([\n",
    "    tf.keras.layers.Dense(50, input_dim=4 ,activation=tf.nn.relu),\n",
    "    tf.keras.layers.Dense(50, activation=tf.nn.relu),\n",
    "    tf.keras.layers.Dense(50, activation=tf.nn.relu),\n",
    "    tf.keras.layers.Dense(3, activation=tf.nn.softmax)\n",
    "])"
   ]
  },
  {
   "cell_type": "code",
   "execution_count": 23,
   "metadata": {},
   "outputs": [],
   "source": [
    "mymodel.compile(optimizer ='adam',\n",
    "    loss = 'categorical_crossentropy',\n",
    "    metrics=['accuracy']\n",
    ")"
   ]
  },
  {
   "cell_type": "code",
   "execution_count": 24,
   "metadata": {},
   "outputs": [
    {
     "name": "stdout",
     "output_type": "stream",
     "text": [
      "_________________________________________________________________\n",
      "Layer (type)                 Output Shape              Param #   \n",
      "=================================================================\n",
      "dense (Dense)                (None, 50)                250       \n",
      "_________________________________________________________________\n",
      "dense_1 (Dense)              (None, 50)                2550      \n",
      "_________________________________________________________________\n",
      "dense_2 (Dense)              (None, 50)                2550      \n",
      "_________________________________________________________________\n",
      "dense_3 (Dense)              (None, 3)                 153       \n",
      "=================================================================\n",
      "Total params: 5,503\n",
      "Trainable params: 5,503\n",
      "Non-trainable params: 0\n",
      "_________________________________________________________________\n"
     ]
    }
   ],
   "source": [
    "mymodel.summary()"
   ]
  },
  {
   "cell_type": "code",
   "execution_count": 33,
   "metadata": {},
   "outputs": [
    {
     "name": "stdout",
     "output_type": "stream",
     "text": [
      "Epoch 1/7\n",
      "150/150 [==============================] - 0s 140us/step - loss: 0.4339 - acc: 0.8933\n",
      "Epoch 2/7\n",
      "150/150 [==============================] - 0s 133us/step - loss: 0.4018 - acc: 0.9733\n",
      "Epoch 3/7\n",
      "150/150 [==============================] - 0s 127us/step - loss: 0.3769 - acc: 0.9400\n",
      "Epoch 4/7\n",
      "150/150 [==============================] - 0s 133us/step - loss: 0.3447 - acc: 0.9600\n",
      "Epoch 5/7\n",
      "150/150 [==============================] - 0s 113us/step - loss: 0.3127 - acc: 0.9600\n",
      "Epoch 6/7\n",
      "150/150 [==============================] - 0s 180us/step - loss: 0.2871 - acc: 0.9800\n",
      "Epoch 7/7\n",
      "150/150 [==============================] - 0s 167us/step - loss: 0.2578 - acc: 0.9800\n"
     ]
    },
    {
     "data": {
      "text/plain": [
       "<tensorflow.python.keras.callbacks.History at 0x186fef8c9b0>"
      ]
     },
     "execution_count": 33,
     "metadata": {},
     "output_type": "execute_result"
    }
   ],
   "source": [
    "# training\n",
    "\n",
    "mymodel.fit(X_input, y_hot, epochs=7)"
   ]
  },
  {
   "cell_type": "code",
   "execution_count": 34,
   "metadata": {},
   "outputs": [
    {
     "name": "stdout",
     "output_type": "stream",
     "text": [
      "150/150 [==============================] - 0s 60us/step\n"
     ]
    },
    {
     "data": {
      "text/plain": [
       "[0.24197936773300172, 0.98]"
      ]
     },
     "execution_count": 34,
     "metadata": {},
     "output_type": "execute_result"
    }
   ],
   "source": [
    "mymodel.evaluate(X_input, y_hot)"
   ]
  },
  {
   "cell_type": "code",
   "execution_count": null,
   "metadata": {},
   "outputs": [],
   "source": []
  },
  {
   "cell_type": "code",
   "execution_count": null,
   "metadata": {},
   "outputs": [],
   "source": []
  }
 ],
 "metadata": {
  "kernelspec": {
   "display_name": "Python 3",
   "language": "python",
   "name": "python3"
  },
  "language_info": {
   "codemirror_mode": {
    "name": "ipython",
    "version": 3
   },
   "file_extension": ".py",
   "mimetype": "text/x-python",
   "name": "python",
   "nbconvert_exporter": "python",
   "pygments_lexer": "ipython3",
   "version": "3.6.9"
  }
 },
 "nbformat": 4,
 "nbformat_minor": 2
}
