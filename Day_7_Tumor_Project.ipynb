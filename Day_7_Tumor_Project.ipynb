{
 "cells": [
  {
   "cell_type": "code",
   "execution_count": 1,
   "metadata": {},
   "outputs": [],
   "source": [
    "#!pip install split-folders"
   ]
  },
  {
   "cell_type": "code",
   "execution_count": 2,
   "metadata": {},
   "outputs": [],
   "source": [
    "import split_folders"
   ]
  },
  {
   "cell_type": "raw",
   "metadata": {},
   "source": [
    "split_folders.ratio(r'C:\\Users\\Administrator\\Desktop\\Folders\\Term-3\\AI\\Dataset\\Tumor_data', \n",
    "                    output=r'C:\\Users\\Administrator\\Desktop\\Folders\\Term-3\\AI\\Dataset\\Tumor_data_Split', \n",
    "                    seed=1337, ratio=(.8, .2))"
   ]
  },
  {
   "cell_type": "code",
   "execution_count": 3,
   "metadata": {},
   "outputs": [
    {
     "name": "stderr",
     "output_type": "stream",
     "text": [
      "Using TensorFlow backend.\n"
     ]
    }
   ],
   "source": [
    "from keras.preprocessing.image import ImageDataGenerator\n",
    "from keras.models import Sequential\n",
    "from keras.layers import Conv2D, MaxPooling2D\n",
    "from keras.layers import Activation, Dropout, Flatten, Dense\n"
   ]
  },
  {
   "cell_type": "code",
   "execution_count": 4,
   "metadata": {},
   "outputs": [],
   "source": [
    "#conv layers\n",
    "model = Sequential()\n",
    "#model.add(Conv2D(64, (3, 3), input_shape=(150,150,3)))\n",
    "model.add(Conv2D(64,(3,3),input_shape = (64,64,3), activation = 'relu'))\n",
    "model.add(MaxPooling2D(pool_size=(2, 2)))\n",
    "\n",
    "model.add(Conv2D(64,(3,3), activation = 'relu'))\n",
    "model.add(MaxPooling2D(pool_size=(2, 2)))\n",
    "\n",
    "model.add(Conv2D(64,(3,3), activation = 'relu'))\n",
    "model.add(MaxPooling2D(pool_size=(2, 2)))\n",
    "\n",
    "model.add(Conv2D(64,(3,3), activation = 'relu'))\n",
    "model.add(MaxPooling2D(pool_size=(2, 2)))\n",
    "\n",
    "## accuracy(train_acc: 98.42 and test_acc:85.71  for 15 epochs)\n",
    "\n"
   ]
  },
  {
   "cell_type": "code",
   "execution_count": 5,
   "metadata": {},
   "outputs": [],
   "source": [
    "#fully connected layers\n",
    "model.add(Flatten())  \n",
    " \n",
    "model.add(Dense( activation = 'relu', units=64))\n",
    "\n",
    "model.add(Dense( activation = 'relu', units=64))\n",
    "\n",
    "model.add(Dense( activation = 'relu', units=64))\n",
    "\n",
    "model.add(Dense( activation = 'relu', units=64))\n",
    "\n",
    "\n",
    "model.add(Dense( activation = 'sigmoid', units=1)) "
   ]
  },
  {
   "cell_type": "code",
   "execution_count": 6,
   "metadata": {},
   "outputs": [],
   "source": [
    "model.compile(loss='binary_crossentropy',\n",
    "              optimizer='adam',\n",
    "              metrics=['accuracy'])"
   ]
  },
  {
   "cell_type": "code",
   "execution_count": 7,
   "metadata": {},
   "outputs": [],
   "source": [
    "train_datagen = ImageDataGenerator(\n",
    "        rescale=1./255,\n",
    "       )\n",
    "\n",
    "test_datagen = ImageDataGenerator(rescale=1./255)"
   ]
  },
  {
   "cell_type": "code",
   "execution_count": 8,
   "metadata": {},
   "outputs": [
    {
     "name": "stdout",
     "output_type": "stream",
     "text": [
      "Found 851 images belonging to 2 classes.\n"
     ]
    }
   ],
   "source": [
    "train_set = train_datagen.flow_from_directory(\n",
    "        r'C:/Users/Administrator/Desktop/Folders/Term-3/AI/Dataset/Tumor_data_Split/train',\n",
    "        target_size=(64, 64),\n",
    "        class_mode='binary')"
   ]
  },
  {
   "cell_type": "code",
   "execution_count": 9,
   "metadata": {},
   "outputs": [
    {
     "name": "stdout",
     "output_type": "stream",
     "text": [
      "Found 203 images belonging to 2 classes.\n"
     ]
    }
   ],
   "source": [
    "test_set = test_datagen.flow_from_directory(\n",
    "        r'C:/Users/Administrator/Desktop/Folders/Term-3/AI/Dataset/Tumor_data_Split/test',\n",
    "        target_size=(64, 64),\n",
    "        class_mode='binary')"
   ]
  },
  {
   "cell_type": "code",
   "execution_count": 10,
   "metadata": {},
   "outputs": [
    {
     "name": "stdout",
     "output_type": "stream",
     "text": [
      "Epoch 1/15\n",
      "27/27 [==============================] - 10s 381ms/step - loss: 0.6826 - acc: 0.5967 - val_loss: 0.6866 - val_acc: 0.6059\n",
      "Epoch 2/15\n",
      "27/27 [==============================] - 8s 300ms/step - loss: 0.6823 - acc: 0.6009 - val_loss: 0.6790 - val_acc: 0.6059\n",
      "Epoch 3/15\n",
      "27/27 [==============================] - 8s 307ms/step - loss: 0.6755 - acc: 0.6009 - val_loss: 0.6683 - val_acc: 0.6059\n",
      "Epoch 4/15\n",
      "27/27 [==============================] - 8s 305ms/step - loss: 0.6654 - acc: 0.6002 - val_loss: 0.6747 - val_acc: 0.6059\n",
      "Epoch 5/15\n",
      "27/27 [==============================] - 8s 300ms/step - loss: 0.6667 - acc: 0.6024 - val_loss: 0.6554 - val_acc: 0.6059\n",
      "Epoch 6/15\n",
      "27/27 [==============================] - 8s 300ms/step - loss: 0.6370 - acc: 0.6353 - val_loss: 0.6266 - val_acc: 0.6453\n",
      "Epoch 7/15\n",
      "27/27 [==============================] - 8s 300ms/step - loss: 0.5625 - acc: 0.7186 - val_loss: 0.5504 - val_acc: 0.7291\n",
      "Epoch 8/15\n",
      "27/27 [==============================] - 8s 304ms/step - loss: 0.4923 - acc: 0.7684 - val_loss: 0.5404 - val_acc: 0.7340\n",
      "Epoch 9/15\n",
      "27/27 [==============================] - 9s 315ms/step - loss: 0.3585 - acc: 0.8556 - val_loss: 0.4166 - val_acc: 0.7980\n",
      "Epoch 10/15\n",
      "27/27 [==============================] - 8s 311ms/step - loss: 0.1965 - acc: 0.9247 - val_loss: 0.4294 - val_acc: 0.8177\n",
      "Epoch 11/15\n",
      "27/27 [==============================] - 8s 313ms/step - loss: 0.1544 - acc: 0.9494 - val_loss: 0.4108 - val_acc: 0.8424\n",
      "Epoch 12/15\n",
      "27/27 [==============================] - 9s 321ms/step - loss: 0.1342 - acc: 0.9522 - val_loss: 0.4576 - val_acc: 0.7980\n",
      "Epoch 13/15\n",
      "27/27 [==============================] - 8s 315ms/step - loss: 0.1475 - acc: 0.9406 - val_loss: 0.5130 - val_acc: 0.7931\n",
      "Epoch 14/15\n",
      "27/27 [==============================] - 8s 311ms/step - loss: 0.1191 - acc: 0.9599 - val_loss: 0.4673 - val_acc: 0.8128\n",
      "Epoch 15/15\n",
      "27/27 [==============================] - 9s 326ms/step - loss: 0.0741 - acc: 0.9749 - val_loss: 0.4399 - val_acc: 0.8473\n"
     ]
    },
    {
     "data": {
      "text/plain": [
       "<keras.callbacks.History at 0x1bff1555b00>"
      ]
     },
     "execution_count": 10,
     "metadata": {},
     "output_type": "execute_result"
    }
   ],
   "source": [
    "model.fit_generator(\n",
    "        train_set,\n",
    "        epochs=15,\n",
    "        validation_data=test_set)"
   ]
  },
  {
   "cell_type": "code",
   "execution_count": 23,
   "metadata": {},
   "outputs": [
    {
     "data": {
      "image/png": "[encoded data removed]",
      "text/plain": [
       "<PIL.Image.Image image mode=RGB size=64x64 at 0x1BFE9433B38>"
      ]
     },
     "execution_count": 23,
     "metadata": {},
     "output_type": "execute_result"
    }
   ],
   "source": [
    "## prediction of single new data\n",
    "import numpy as np\n",
    "from keras.preprocessing import image\n",
    "test_image= image.load_img(r'C:/Users/Administrator/Desktop/Folders/Term-3/AI/Dataset/Tumor_data_Split/inference/Tumor3.jpg'\n",
    "                           ,target_size =(64,64))\n",
    "\n",
    "test_image"
   ]
  },
  {
   "cell_type": "code",
   "execution_count": 24,
   "metadata": {},
   "outputs": [],
   "source": [
    "## Convert image to array\n",
    "test_image = image.img_to_array(test_image)\n",
    "\n",
    "test_image=test_image.reshape(1,64, 64, 3)"
   ]
  },
  {
   "cell_type": "code",
   "execution_count": 25,
   "metadata": {},
   "outputs": [
    {
     "data": {
      "text/plain": [
       "array([[1.]], dtype=float32)"
      ]
     },
     "execution_count": 25,
     "metadata": {},
     "output_type": "execute_result"
    }
   ],
   "source": [
    "## For single prediction change the dimension using axis. To remove problem of batch\n",
    "#test_image = np.expand_dims(test_image,axis = 0)\n",
    "result = model.predict(test_image)\n",
    "\n",
    "result"
   ]
  },
  {
   "cell_type": "code",
   "execution_count": 26,
   "metadata": {},
   "outputs": [
    {
     "name": "stdout",
     "output_type": "stream",
     "text": [
      "{'No Tumor': 0, 'Tumor': 1}\n"
     ]
    }
   ],
   "source": [
    "label_map = (train_set.class_indices)\n",
    "print(label_map)"
   ]
  },
  {
   "cell_type": "code",
   "execution_count": 27,
   "metadata": {},
   "outputs": [],
   "source": [
    "## Class label \n",
    "\n",
    "if result == 0:\n",
    "    prediction = 'No Tumor'\n",
    "else:\n",
    "    prediction = 'Tumor'"
   ]
  },
  {
   "cell_type": "code",
   "execution_count": 28,
   "metadata": {},
   "outputs": [
    {
     "data": {
      "text/plain": [
       "'Tumor'"
      ]
     },
     "execution_count": 28,
     "metadata": {},
     "output_type": "execute_result"
    }
   ],
   "source": [
    "prediction"
   ]
  },
  {
   "cell_type": "markdown",
   "metadata": {},
   "source": [
    "# Saving Weigths"
   ]
  },
  {
   "cell_type": "markdown",
   "metadata": {},
   "source": [
    "tumor_model_json = model.to_json()\n",
    "with open(\"tumor_model.json\",\"w\") as json_file:\n",
    "    json_file.write(tumor_model_json)\n",
    "#serialize weights to\n",
    "model.save_weights(\"tumor_model.h5\")\n",
    "print(\"Saved model to disk\")"
   ]
  },
  {
   "cell_type": "code",
   "execution_count": null,
   "metadata": {},
   "outputs": [],
   "source": []
  }
 ],
 "metadata": {
  "kernelspec": {
   "display_name": "Python 3",
   "language": "python",
   "name": "python3"
  },
  "language_info": {
   "codemirror_mode": {
    "name": "ipython",
    "version": 3
   },
   "file_extension": ".py",
   "mimetype": "text/x-python",
   "name": "python",
   "nbconvert_exporter": "python",
   "pygments_lexer": "ipython3",
   "version": "3.6.9"
  }
 },
 "nbformat": 4,
 "nbformat_minor": 2
}
